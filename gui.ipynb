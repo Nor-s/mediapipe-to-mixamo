{
 "cells": [
  {
   "cell_type": "code",
   "execution_count": 4,
   "metadata": {},
   "outputs": [],
   "source": [
    "!python -m PyQt5.uic.pyuic -x \"./gui.xml\" -o \"./text_code.py\""
   ]
  },
  {
   "cell_type": "code",
   "execution_count": 2,
   "metadata": {},
   "outputs": [],
   "source": [
    "from PIL import Image\n",
    "def smooth_gif_resize(gif, frameWidth, frameHeight):\n",
    "    gif = Image.open(gif)\n",
    "    gifWidth0, gifHeight0 = gif.size\n",
    "\n",
    "    widthRatio = frameWidth / gifWidth0\n",
    "    heightRatio = frameHeight / gifHeight0\n",
    "\n",
    "    if widthRatio >= heightRatio:\n",
    "        gifWidth1 = gifWidth0 * heightRatio\n",
    "        gifHeight1 = frameHeight\n",
    "        return gifWidth1, gifHeight1\n",
    "\n",
    "    gifWidth1 = frameWidth\n",
    "    gifHeight1 = gifHeight0 * widthRatio\n",
    "    return round(gifWidth1), round(gifHeight1)"
   ]
  },
  {
   "cell_type": "code",
   "execution_count": 3,
   "metadata": {},
   "outputs": [
    {
     "data": {
      "text/plain": [
       "0"
      ]
     },
     "execution_count": 3,
     "metadata": {},
     "output_type": "execute_result"
    }
   ],
   "source": [
    "from PyQt5 import uic\r\n",
    "import sys\r\n",
    "from PyQt5.QtWidgets import *\r\n",
    "from PyQt5.QtWidgets import QApplication, QMainWindow, QTextEdit, QAction, QFileDialog, QWidget, QPushButton, QVBoxLayout\r\n",
    "from PyQt5.QtGui import QMovie\r\n",
    "from PyQt5 import QtCore\r\n",
    "from PyQt5.QtCore import QSize\r\n",
    "import mediapipe_helper as mph\r\n",
    "import mixamo_helper as mmh\r\n",
    "import json\r\n",
    "import pyglm_helper as glmh\r\n",
    "import ntpath\r\n",
    "\r\n",
    "#UI파일 연결\r\n",
    "#단, UI파일은 Python 코드 파일과 같은 디렉토리에 위치해야한다.\r\n",
    "form_class = uic.loadUiType(\"gui.xml\")[0]\r\n",
    "\r\n",
    "#화면을 띄우는데 사용되는 Class 선언\r\n",
    "class WindowClass(QMainWindow, form_class) :\r\n",
    "    def __init__(self) :\r\n",
    "        super().__init__()\r\n",
    "        self.setupUi(self)\r\n",
    "        self.statusBar().showMessage('Ready')\r\n",
    "\r\n",
    "        # self.setFixedWidth(self.frameGeometry().width())\r\n",
    "        # self.setFixedHeight(self.frameGeometry().height())\r\n",
    "\r\n",
    "        self.btn_add_model.adjustSize()\r\n",
    "        #버튼에 기능을 연결하는 코드\r\n",
    "        self.btn_add_model.clicked.connect(self.add_model_path)\r\n",
    "        self.btn_add_gif.clicked.connect(self.add_gif_path)\r\n",
    "        self.btn_add_output.clicked.connect(self.add_output_path)\r\n",
    "        self.btn_convert.clicked.connect(self.convert)\r\n",
    "        self.cmb_gif.currentIndexChanged.connect(self.show_gif)\r\n",
    "\r\n",
    "    def add_model_path(self):\r\n",
    "        self.add_cmb_item_from_dialog(\"Add Model Json File\", \"./\", \"Json (*.json)\", self.cmb_model)\r\n",
    "\r\n",
    "    def add_gif_path(self):\r\n",
    "        self.add_cmb_item_from_dialog(\"Add Animation GIF File\", \"./\", \"GIF (*.gif)\", self.cmb_gif)\r\n",
    "\r\n",
    "    def add_output_path(self):\r\n",
    "        self.add_cmb_item_from_dialog(\"Select Output File\", \"./\", \"Json (*.json)\", self.cmb_output, is_save=True)\r\n",
    "   \r\n",
    "    def convert(self):\r\n",
    "        self.statusBar().showMessage('Converting...')\r\n",
    "        if self.cmb_model.currentIndex() == -1 or  self.cmb_gif.currentIndex() == -1 or  self.cmb_output.currentIndex() == -1:\r\n",
    "            self.statusBar().showMessage('Please try again')\r\n",
    "            return\r\n",
    "        try:\r\n",
    "            model_path = self.cmb_model.currentText()\r\n",
    "            gif_path = self.cmb_gif.currentText()\r\n",
    "            output_path = self.cmb_output.currentText()\r\n",
    "            mediapipe_json_object = mph.gif_to_mediapipe_json(fileName=gif_path, maxFrameNum=5000, modelComplexity=1)\r\n",
    "            mixamo_json_object = mmh.mediapipeToMixamo(mph.get_name_idx_map(), mediapipe_json_object)\r\n",
    "            anim_json = glmh.get_anim_json3(mixamo_json_object, model_path, is_hips_move= True, min_visibility= 0.6)\r\n",
    "            with open(output_path, 'w') as f:\r\n",
    "                j_string = json.dump(anim_json, f, indent= 2)\r\n",
    "            self.statusBar().showMessage('Success!')\r\n",
    "        except:\r\n",
    "            self.statusBar().showMessage('Error!')\r\n",
    "            return\r\n",
    "\r\n",
    "    def add_cmb_item_from_dialog(self, title, path, filter, cmb, is_save = False):\r\n",
    "        fname = self.show_dialog(title, path, filter, is_save)\r\n",
    "        if fname != '':\r\n",
    "            cmb.addItem(fname) \r\n",
    "            cmb.setCurrentIndex(cmb.count() - 1)\r\n",
    "\r\n",
    "    # filter: \"Images (*.png *.xpm .jpg);;Text files (.txt);;XML files (*.xml)\"\r\n",
    "    def show_dialog(self, title, path, filter, is_save = False):\r\n",
    "        if not is_save:\r\n",
    "            fname = QFileDialog.getOpenFileName(self, title, path, filter)\r\n",
    "        else: \r\n",
    "            fname = QFileDialog.getSaveFileName(self, title, path, filter)\r\n",
    "        return fname[0]\r\n",
    "\r\n",
    "    def show_gif(self):\r\n",
    "        if self.cmb_gif.currentIndex() != -1:\r\n",
    "            movie = QMovie(self.cmb_gif.currentText())\r\n",
    "            \r\n",
    "            gif_size = QSize(*smooth_gif_resize(self.cmb_gif.currentText(), 150, 150))\r\n",
    "            movie.setScaledSize(gif_size)\r\n",
    "            self.lbl_gif_movie.setMovie(movie)\r\n",
    "            self.lbl_gif_movie.adjustSize()\r\n",
    "            movie.start()\r\n",
    "app = QApplication(sys.argv)\r\n",
    "myWindow = WindowClass() \r\n",
    "myWindow.show()\r\n",
    "app.exec_()"
   ]
  }
 ],
 "metadata": {
  "interpreter": {
   "hash": "7770f5e8eb6920f79a6b043824678a52812d883996986ad7f79f03ebf5a9088e"
  },
  "kernelspec": {
   "display_name": "Python 3.8.11 64-bit ('No': virtualenv)",
   "name": "python3"
  },
  "language_info": {
   "codemirror_mode": {
    "name": "ipython",
    "version": 3
   },
   "file_extension": ".py",
   "mimetype": "text/x-python",
   "name": "python",
   "nbconvert_exporter": "python",
   "pygments_lexer": "ipython3",
   "version": "3.8.11"
  },
  "orig_nbformat": 4,
  "vscode": {
   "interpreter": {
    "hash": "78bdb2dcac2d744d0c30d0eaa331d55fe59e60d95f25fb3dacd42cea4b1d7e89"
   }
  }
 },
 "nbformat": 4,
 "nbformat_minor": 2
}