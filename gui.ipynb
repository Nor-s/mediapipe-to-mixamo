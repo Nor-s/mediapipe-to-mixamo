{
 "cells": [
  {
   "cell_type": "code",
   "execution_count": null,
   "metadata": {},
   "outputs": [],
   "source": [
    "import sys\r\n",
    "from PyQt5.QtWidgets import QApplication, QMainWindow, QTextEdit, QAction, QFileDialog, QWidget, QPushButton, QVBoxLayout\r\n",
    "from PyQt5.QtGui import QIcon"
   ]
  },
  {
   "cell_type": "code",
   "execution_count": null,
   "metadata": {},
   "outputs": [],
   "source": [
    "class MyApp(QMainWindow):\r\n",
    "\r\n",
    "    def __init__(self):\r\n",
    "        super().__init__()\r\n",
    "        self.initUI()\r\n",
    "\r\n",
    "    def initUI(self):\r\n",
    "        self.statusBar()\r\n",
    "\r\n",
    "        # openFile = QAction(QIcon('open.png'), 'Open', self)\r\n",
    "        # openFile.setShortcut('Ctrl+O')\r\n",
    "        # openFile.setStatusTip('Open New File')\r\n",
    "        # openFile.triggered.connect(self.showDialog)\r\n",
    "\r\n",
    "        # menubar = self.menuBar()\r\n",
    "        # menubar.setNativeMenuBar(False)\r\n",
    "        # fileMenu = menubar.addMenu('&File')\r\n",
    "        # fileMenu.addAction(openFile)\r\n",
    "        \r\n",
    "        self.setBtn()\r\n",
    "\r\n",
    "        self.setWindowTitle('File Dialog')\r\n",
    "        self.setGeometry(300, 300, 300, 200)\r\n",
    "        self.show()\r\n",
    "    \r\n",
    "    def setBtn(self):\r\n",
    "        model_btn = QPushButton('Add Model', self)\r\n",
    "        model_btn.setCheckable(True)\r\n",
    "        # model_btn.toggle()\r\n",
    "        model_btn.released.connect(self.showDialog)\r\n",
    "        vbox = QVBoxLayout()\r\n",
    "        vbox.addWidget(model_btn)\r\n",
    "        \r\n",
    "        self.setLayout(vbox)\r\n",
    "        \r\n",
    "    def showDialog(self):\r\n",
    "        fname = QFileDialog.getOpenFileName(self, 'Open file', './')\r\n",
    "\r\n",
    "        if fname[0]:\r\n",
    "            fname[0]"
   ]
  },
  {
   "cell_type": "code",
   "execution_count": 3,
   "metadata": {},
   "outputs": [
    {
     "ename": "SystemExit",
     "evalue": "0",
     "output_type": "error",
     "traceback": [
      "An exception has occurred, use %tb to see the full traceback.\n",
      "\u001b[1;31mSystemExit\u001b[0m\u001b[1;31m:\u001b[0m 0\n"
     ]
    },
    {
     "name": "stderr",
     "output_type": "stream",
     "text": [
      "C:\\Users\\No\\anaconda3\\lib\\site-packages\\IPython\\core\\interactiveshell.py:3452: UserWarning: To exit: use 'exit', 'quit', or Ctrl-D.\n",
      "  warn(\"To exit: use 'exit', 'quit', or Ctrl-D.\", stacklevel=1)\n"
     ]
    }
   ],
   "source": [
    "app = QApplication(sys.argv)\r\n",
    "ex = MyApp()\r\n",
    "sys.exit(app.exec_())"
   ]
  }
 ],
 "metadata": {
  "interpreter": {
   "hash": "7770f5e8eb6920f79a6b043824678a52812d883996986ad7f79f03ebf5a9088e"
  },
  "kernelspec": {
   "display_name": "Python 3.8.11 64-bit ('No': virtualenv)",
   "name": "python3"
  },
  "language_info": {
   "codemirror_mode": {
    "name": "ipython",
    "version": 3
   },
   "file_extension": ".py",
   "mimetype": "text/x-python",
   "name": "python",
   "nbconvert_exporter": "python",
   "pygments_lexer": "ipython3",
   "version": "3.8.11"
  },
  "orig_nbformat": 4
 },
 "nbformat": 4,
 "nbformat_minor": 2
}