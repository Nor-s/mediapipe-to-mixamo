{
 "cells": [
  {
   "cell_type": "code",
   "execution_count": 2,
   "metadata": {},
   "outputs": [],
   "source": [
    "!python -m PyQt5.uic.pyuic -x pyqt_gui/gui.xml -o pyqt_gui/text_code1.py\r\n"
   ]
  },
  {
   "cell_type": "code",
   "execution_count": 3,
   "metadata": {},
   "outputs": [],
   "source": [
    "import cv2\r\n",
    "import sys\r\n",
    "import mediapipe as mp\r\n",
    "from helper import mixamo_helper as mmh\r\n",
    "from helper import mediapipe_helper as mph\r\n",
    "from helper import pyglm_helper as glmh\r\n",
    "import glm\r\n",
    "import json\r\n",
    "from IPython.display import clear_output\r\n",
    "from helper import mediapipe_to_mixamo as mtm"
   ]
  },
  {
   "cell_type": "code",
   "execution_count": 3,
   "metadata": {},
   "outputs": [],
   "source": [
    "def avg_vec3(v1, v2):\n",
    "    v3 = glm.vec3((v1.x + v2.x)* 0.5, \n",
    "                 (v1.y + v2.y)* 0.5, \n",
    "                 (v1.z + v2.z)* 0.5)\n",
    "    return v3"
   ]
  },
  {
   "cell_type": "code",
   "execution_count": 4,
   "metadata": {},
   "outputs": [],
   "source": [
    "mp_name_idx_map =mph.get_name_idx_map()\n",
    "mm_mp_map = mmh.get_mixamo_name_mediapipe_name_map()\n",
    "mm_name_idx_map  =mmh.get_mixamo_name_idx_map()\n",
    "mp_idx_mm_idx_map = dict()\n",
    "\n",
    "\n",
    "\n",
    "for mm_name in mm_mp_map.keys():\n",
    "    mp_name = mm_mp_map[mm_name]\n",
    "    mp_idx = mp_name_idx_map[mp_name]\n",
    "    mm_idx = mm_name_idx_map[mm_name]\n",
    "    mp_idx_mm_idx_map[mp_idx] = mm_idx\n",
    "\n"
   ]
  },
  {
   "cell_type": "code",
   "execution_count": 5,
   "metadata": {},
   "outputs": [],
   "source": [
    "def detectPose2(mp_pose, mp_drawing, image, pose):\n",
    "    # Create a copy of the input image.\n",
    "    output_image = image.copy()\n",
    "    \n",
    "    image.flags.writeable = False\n",
    "\n",
    "    # Convert the image from BGR into RGB format.\n",
    "    imageRGB = cv2.cvtColor(image, cv2.COLOR_BGR2RGB)\n",
    "\n",
    "    # Perform the Pose Detection.\n",
    "    results = pose.process(imageRGB)\n",
    "    \n",
    "    image.flags.writeable = True\n",
    "\n",
    "    # Initialize a list to store the detected landmarks.\n",
    "    glm_list = [None]*26\n",
    "    visibility_list = [None]*26\n",
    "    hip2d = glm.vec3(0.0, 0.0, 0.0)\n",
    "\n",
    "    if results.pose_world_landmarks:\n",
    "        landmark = results.pose_world_landmarks.landmark\n",
    "\n",
    "        glm_list[mmh.Mixamo.Hips] = glm.vec3(0.0, 0.0, 0.0)\n",
    "        glm_list[mmh.Mixamo.Neck]  = avg_vec3(landmark[mp_pose.PoseLandmark.LEFT_SHOULDER], landmark[mp_pose.PoseLandmark.RIGHT_SHOULDER])\n",
    "        glm_list[mmh.Mixamo.Spine1] = avg_vec3(glm_list[mmh.Mixamo.Hips], glm_list[mmh.Mixamo.Neck])\n",
    "        glm_list[mmh.Mixamo.Spine] = avg_vec3(glm_list[mmh.Mixamo.Hips], glm_list[mmh.Mixamo.Spine1])\n",
    "        glm_list[mmh.Mixamo.Spine2] = avg_vec3(glm_list[mmh.Mixamo.Spine1], glm_list[mmh.Mixamo.Neck])\n",
    "        glm_list[mmh.Mixamo.Head]  = avg_vec3(landmark[mp_pose.PoseLandmark.LEFT_EAR], landmark[mp_pose.PoseLandmark.RIGHT_EAR])\n",
    "        glm_list[mmh.Mixamo.Neck].y *= -1\n",
    "        glm_list[mmh.Mixamo.Neck].z *= -1\n",
    "        glm_list[mmh.Mixamo.Spine].y *= -1\n",
    "        glm_list[mmh.Mixamo.Spine].z *= -1\n",
    "        glm_list[mmh.Mixamo.Spine1].y *= -1\n",
    "        glm_list[mmh.Mixamo.Spine1].z *= -1\n",
    "        glm_list[mmh.Mixamo.Spine2].y *= -1\n",
    "        glm_list[mmh.Mixamo.Spine2].z *= -1\n",
    "        glm_list[mmh.Mixamo.Head].y *= -1\n",
    "        glm_list[mmh.Mixamo.Head].z *= -1\n",
    "        for mp_idx in mp_idx_mm_idx_map.keys():\n",
    "            mm_idx = mp_idx_mm_idx_map[mp_idx]\n",
    "            glm_list[mm_idx] = glm.vec3(landmark[mp_idx].x, -landmark[mp_idx].y, -landmark[mp_idx].z)\n",
    "            visibility_list[mm_idx] = landmark[mp_idx].visibility\n",
    "\n",
    "    image_height, image_width, _ = image.shape\n",
    "\n",
    "    # calculate hips\n",
    "    if results.pose_landmarks:\n",
    "        # Draw Pose landmarks on the output image.\n",
    "        landmark = results.pose_landmarks.landmark\n",
    "        hip2d_left = results.pose_landmarks.landmark[mp_pose.PoseLandmark.LEFT_HIP]\n",
    "        hip2d_right = results.pose_landmarks.landmark[mp_pose.PoseLandmark.RIGHT_HIP]\n",
    "        hip2d = avg_vec3(hip2d_left, hip2d_right)\n",
    "        hip2d.y *= image_height\n",
    "        hip2d.x *= image_width\n",
    "\n",
    "\n",
    "    mp_drawing.draw_landmarks(image=output_image, landmark_list=results.pose_landmarks,\n",
    "                              connections=mp_pose.POSE_CONNECTIONS)\n",
    "\n",
    "    return output_image, glm_list, visibility_list, hip2d"
   ]
  },
  {
   "cell_type": "code",
   "execution_count": 6,
   "metadata": {},
   "outputs": [],
   "source": [
    "# cap = cv2.VideoCapture(0)\n"
   ]
  },
  {
   "cell_type": "code",
   "execution_count": 7,
   "metadata": {},
   "outputs": [],
   "source": [
    "model_file_name = '../sample_input_data/zom_model.json'\n",
    "with open(model_file_name) as f:\n",
    "        pix3d_json_object = json.load(f)\n",
    "is_find, hip_node = glmh.find_hips(pix3d_json_object[\"node\"])\n",
    "\n",
    "root_node = glmh.ModelNode()\n",
    "\n",
    "root_node.set_mixamo(hip_node, mm_name_idx_map)\n",
    "root_node.normalize_spine()\n"
   ]
  },
  {
   "cell_type": "code",
   "execution_count": 9,
   "metadata": {},
   "outputs": [
    {
     "ename": "KeyboardInterrupt",
     "evalue": "",
     "output_type": "error",
     "traceback": [
      "\u001b[1;31m---------------------------------------------------------------------------\u001b[0m",
      "\u001b[1;31mKeyboardInterrupt\u001b[0m                         Traceback (most recent call last)",
      "\u001b[1;32m~\\AppData\\Local\\Temp/ipykernel_30196/659208910.py\u001b[0m in \u001b[0;36m<module>\u001b[1;34m\u001b[0m\n\u001b[0;32m     34\u001b[0m             \u001b[1;31m# cv2.imshow('MediaPipe Hands', cv2.flip(image, 1))\u001b[0m\u001b[1;33m\u001b[0m\u001b[1;33m\u001b[0m\u001b[1;33m\u001b[0m\u001b[0m\n\u001b[0;32m     35\u001b[0m \u001b[1;33m\u001b[0m\u001b[0m\n\u001b[1;32m---> 36\u001b[1;33m         \u001b[1;32mif\u001b[0m \u001b[0mcv2\u001b[0m\u001b[1;33m.\u001b[0m\u001b[0mwaitKey\u001b[0m\u001b[1;33m(\u001b[0m\u001b[1;36m5\u001b[0m\u001b[1;33m)\u001b[0m \u001b[1;33m&\u001b[0m \u001b[1;36m0xFF\u001b[0m \u001b[1;33m==\u001b[0m \u001b[1;36m27\u001b[0m\u001b[1;33m:\u001b[0m\u001b[1;33m\u001b[0m\u001b[1;33m\u001b[0m\u001b[0m\n\u001b[0m\u001b[0;32m     37\u001b[0m             \u001b[1;32mbreak\u001b[0m\u001b[1;33m\u001b[0m\u001b[1;33m\u001b[0m\u001b[0m\n\u001b[0;32m     38\u001b[0m \u001b[0mcap\u001b[0m\u001b[1;33m.\u001b[0m\u001b[0mrelease\u001b[0m\u001b[1;33m(\u001b[0m\u001b[1;33m)\u001b[0m\u001b[1;33m\u001b[0m\u001b[1;33m\u001b[0m\u001b[0m\n",
      "\u001b[1;31mKeyboardInterrupt\u001b[0m: "
     ]
    }
   ],
   "source": [
    "mp_pose = mp.solutions.pose\r\n",
    "mp_drawing = mp.solutions.drawing_utils\r\n",
    "min_visibility = 0.5\r\n",
    "model_complexity = 1\r\n",
    "pose_video = mp_pose.Pose(static_image_mode=False,\r\n",
    "                        min_detection_confidence=min_visibility, \r\n",
    "                        model_complexity=model_complexity)\r\n",
    "\r\n",
    "import time\r\n",
    "\r\n",
    "cap = cv2.VideoCapture('C:\\\\Users\\\\No\\\\Desktop\\\\2022-04-29-10-33-07.mp4')\r\n",
    "\r\n",
    "while cap.isOpened():\r\n",
    "        clear_output()\r\n",
    "        success, image = cap.read()\r\n",
    "        if not success:\r\n",
    "            print(\"Ignoring empty camera frame.\")\r\n",
    "            # If loading a video, use 'break' instead of 'continue'.\r\n",
    "            # continue\r\n",
    "            break\r\n",
    "        image, glm_list, visibility_list, hip2d = detectPose2(mp_pose, mp_drawing, image, pose_video)\r\n",
    "        if glm_list[0] != None:\r\n",
    "            rv = []\r\n",
    "            rg = []\r\n",
    "            root_node.normalize(glm_list, mm_name_idx_map)\r\n",
    "            root_node.calc_animation(glm_list, mm_name_idx_map)\r\n",
    "            # root_node.get_vec_and_group_list(rv, rg, is_apply_tmp_transform= True)\r\n",
    "            # glmh.draw_list([v for v in rv ], rg, range= 1.0, azim= 0)\r\n",
    "            # time.sleep(0.1)\r\n",
    "\r\n",
    "        # print(glm_list)\r\n",
    "        cv2.imshow('MediaPipe Hands', image)\r\n",
    "        # else:\r\n",
    "            # cv2.imshow('MediaPipe Hands', cv2.flip(image, 1))\r\n",
    "            \r\n",
    "        if cv2.waitKey(5) & 0xFF == 27:\r\n",
    "            break\r\n",
    "cap.release()"
   ]
  },
  {
   "cell_type": "code",
   "execution_count": 1,
   "metadata": {},
   "outputs": [
    {
     "name": "stdout",
     "output_type": "stream",
     "text": [
      "5.329251179005035 --- 121.76729262924292 ,  22.84885597229004\n",
      "-12.083842852785464 -4.270003958275671 0.01178728656473868\n",
      "-33.69261626433585 -6.145561114924866 0.06557273741867348\n",
      "-49.644183327128275 -8.213841741029656 0.09943910974771787\n",
      "-74.00012001657672 -7.1700042660647805 0.2209153757074469\n",
      "-97.57345304778016 -3.3982352011876054 0.250886746746828\n",
      "-104.17630548358416 11.021627527990645 0.22964053436219095\n",
      "-108.50449241333472 31.897075940574545 0.19814254644154075\n",
      "-111.26421930981121 42.12325157902315 0.17179681108314293\n",
      "-105.59249771240438 44.9074551692997 0.07963819632474842\n",
      "-99.33260360251978 45.99679002028162 0.13424826170714235\n",
      "-97.70030900235852 41.174881341670456 0.08068516453961795\n",
      "-91.13404963037522 52.0840055278924 0.1289016084933426\n",
      "-71.36826554867362 51.36011340759969 0.2527335529365281\n",
      "-63.42675752038944 65.41022355634985 0.14168916899880463\n",
      "-55.73757899662877 113.82890517612346 0.08453251861076473\n",
      "-47.11194331073703 120.48644391285947 -0.0014001929281386252\n",
      "-18.397854038164873 121.07307138486482 0.07544015872532009\n",
      "-5.0089398936946585 112.88309645323821 0.06086392163674812\n",
      "-0.15003156166479933 98.5887479329649 0.14831117942822974\n",
      "-21.55555083317119 33.206904330555986 0.05888687971643623\n",
      "-23.45160010555997 -54.445762525839065 -0.14593771264986047\n",
      "-29.20573741448293 -104.48315865320048 -0.08871022673029269\n",
      "-75.93573045685163 -137.14852629817017 0.027961293714231086\n",
      "-92.89576169958228 -135.1400956608921 -0.05069409931658337\n",
      "-69.69051423145511 -126.63542038040761 -0.1833287085566331\n",
      "-56.10729091809707 -110.2777516271252 -0.022202333236201757\n",
      "-60.0105104000101 -93.65421393570563 0.030359537046228957\n",
      "-33.23154366019524 -33.70932709681396 -0.11098117196115823\n",
      "42.627341362632954 42.49467117680308 -0.00645715105335798\n",
      "86.1439754940281 93.45100045462144 0.06976823383311426\n",
      "126.9076727752335 93.61200993543244 0.21461577812331686\n",
      "173.38265282173182 83.98998578066332 0.17219831831117544\n",
      "215.66569411277197 82.11967362982841 0.14606477189923783\n",
      "259.090113723339 87.91975556332623 0.15754584567297705\n",
      "297.1039642352995 87.59334543404574 0.13647942212620898\n",
      "323.15245210333387 81.28657154351087 0.13263969161002484\n",
      "348.73596410708683 66.34867300751115 -0.21768789209619227\n",
      "376.2883455802317 55.10569810236518 -0.205594889065647\n",
      "394.06240985713333 54.13805551806693 -0.2807806116440889\n"
     ]
    }
   ],
   "source": [
    "from helper import mediapipe_to_mixamo as mtm\r\n",
    "model_file_name = '../sample_input_data/zom_model.json'\r\n",
    "image_file_name = \"C:\\\\Users\\\\No\\\\Desktop\\\\figure.gif\"\r\n",
    "_, json_file = mtm.mediapipe_to_mixamo(model_file_name, image_file_name, is_hips_move=True)"
   ]
  }
 ],
 "metadata": {
  "interpreter": {
   "hash": "7770f5e8eb6920f79a6b043824678a52812d883996986ad7f79f03ebf5a9088e"
  },
  "kernelspec": {
   "display_name": "Python 3.8.11 64-bit ('base': conda)",
   "name": "python3"
  },
  "language_info": {
   "codemirror_mode": {
    "name": "ipython",
    "version": 3
   },
   "file_extension": ".py",
   "mimetype": "text/x-python",
   "name": "python",
   "nbconvert_exporter": "python",
   "pygments_lexer": "ipython3",
   "version": "3.8.11"
  },
  "orig_nbformat": 4,
  "vscode": {
   "interpreter": {
    "hash": "78bdb2dcac2d744d0c30d0eaa331d55fe59e60d95f25fb3dacd42cea4b1d7e89"
   }
  }
 },
 "nbformat": 4,
 "nbformat_minor": 2
}