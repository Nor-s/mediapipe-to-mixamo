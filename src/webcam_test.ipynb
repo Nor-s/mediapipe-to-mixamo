{
 "cells": [
  {
   "cell_type": "code",
   "execution_count": 1,
   "metadata": {},
   "outputs": [],
   "source": [
    "import cv2\n",
    "import sys\n",
    "import mediapipe as mp\n",
    "from helper import mixamo_helper as mmh\n",
    "from helper import mediapipe_helper as mph\n",
    "from helper import pyglm_helper as glmh\n",
    "import glm\n",
    "import json\n",
    "from IPython.display import clear_output"
   ]
  },
  {
   "cell_type": "code",
   "execution_count": 2,
   "metadata": {},
   "outputs": [],
   "source": [
    "def avg_vec3(v1, v2):\n",
    "    v3 = glm.vec3((v1.x + v2.x)* 0.5, \n",
    "                 (v1.y + v2.y)* 0.5, \n",
    "                 (v1.z + v2.z)* 0.5)\n",
    "    return v3"
   ]
  },
  {
   "cell_type": "code",
   "execution_count": 3,
   "metadata": {},
   "outputs": [],
   "source": [
    "mp_name_idx_map =mph.get_name_idx_map()\n",
    "mm_mp_map = mmh.get_mixamo_name_mediapipe_name_map()\n",
    "mm_name_idx_map  =mmh.get_mixamo_name_idx_map()\n",
    "mp_idx_mm_idx_map = dict()\n",
    "\n",
    "\n",
    "\n",
    "for mm_name in mm_mp_map.keys():\n",
    "    mp_name = mm_mp_map[mm_name]\n",
    "    mp_idx = mp_name_idx_map[mp_name]\n",
    "    mm_idx = mm_name_idx_map[mm_name]\n",
    "    mp_idx_mm_idx_map[mp_idx] = mm_idx\n",
    "\n"
   ]
  },
  {
   "cell_type": "code",
   "execution_count": 4,
   "metadata": {},
   "outputs": [],
   "source": [
    "def detectPose2(mp_pose, mp_drawing, image, pose):\n",
    "    # Create a copy of the input image.\n",
    "    output_image = image.copy()\n",
    "    \n",
    "    image.flags.writeable = False\n",
    "\n",
    "    # Convert the image from BGR into RGB format.\n",
    "    imageRGB = cv2.cvtColor(image, cv2.COLOR_BGR2RGB)\n",
    "\n",
    "    # Perform the Pose Detection.\n",
    "    results = pose.process(imageRGB)\n",
    "    \n",
    "    image.flags.writeable = True\n",
    "\n",
    "    # Initialize a list to store the detected landmarks.\n",
    "    glm_list = [None]*26\n",
    "    visibility_list = [None]*26\n",
    "    hip2d = glm.vec3(0.0, 0.0, 0.0)\n",
    "\n",
    "    if results.pose_world_landmarks:\n",
    "        landmark = results.pose_world_landmarks.landmark\n",
    "\n",
    "        glm_list[mmh.Mixamo.Hips] = glm.vec3(0.0, 0.0, 0.0)\n",
    "        glm_list[mmh.Mixamo.Neck]  = avg_vec3(landmark[mp_pose.PoseLandmark.LEFT_SHOULDER], landmark[mp_pose.PoseLandmark.RIGHT_SHOULDER])\n",
    "        glm_list[mmh.Mixamo.Spine1] = avg_vec3(glm_list[mmh.Mixamo.Hips], glm_list[mmh.Mixamo.Neck])\n",
    "        glm_list[mmh.Mixamo.Spine] = avg_vec3(glm_list[mmh.Mixamo.Hips], glm_list[mmh.Mixamo.Spine1])\n",
    "        glm_list[mmh.Mixamo.Spine2] = avg_vec3(glm_list[mmh.Mixamo.Spine1], glm_list[mmh.Mixamo.Neck])\n",
    "        glm_list[mmh.Mixamo.Head]  = avg_vec3(landmark[mp_pose.PoseLandmark.LEFT_EAR], landmark[mp_pose.PoseLandmark.RIGHT_EAR])\n",
    "        glm_list[mmh.Mixamo.Neck].y *= -1\n",
    "        glm_list[mmh.Mixamo.Neck].z *= -1\n",
    "        glm_list[mmh.Mixamo.Spine].y *= -1\n",
    "        glm_list[mmh.Mixamo.Spine].z *= -1\n",
    "        glm_list[mmh.Mixamo.Spine1].y *= -1\n",
    "        glm_list[mmh.Mixamo.Spine1].z *= -1\n",
    "        glm_list[mmh.Mixamo.Spine2].y *= -1\n",
    "        glm_list[mmh.Mixamo.Spine2].z *= -1\n",
    "        glm_list[mmh.Mixamo.Head].y *= -1\n",
    "        glm_list[mmh.Mixamo.Head].z *= -1\n",
    "        for mp_idx in mp_idx_mm_idx_map.keys():\n",
    "            mm_idx = mp_idx_mm_idx_map[mp_idx]\n",
    "            glm_list[mm_idx] = glm.vec3(landmark[mp_idx].x, -landmark[mp_idx].y, -landmark[mp_idx].z)\n",
    "            visibility_list[mm_idx] = landmark[mp_idx].visibility\n",
    "\n",
    "    image_height, image_width, _ = image.shape\n",
    "\n",
    "    # calculate hips\n",
    "    if results.pose_landmarks:\n",
    "        # Draw Pose landmarks on the output image.\n",
    "        landmark = results.pose_landmarks.landmark\n",
    "        hip2d_left = results.pose_landmarks.landmark[mp_pose.PoseLandmark.LEFT_HIP]\n",
    "        hip2d_right = results.pose_landmarks.landmark[mp_pose.PoseLandmark.RIGHT_HIP]\n",
    "        hip2d = avg_vec3(hip2d_left, hip2d_right)\n",
    "        hip2d.y *= image_height\n",
    "        hip2d.x *= image_width\n",
    "\n",
    "\n",
    "    mp_drawing.draw_landmarks(image=output_image, landmark_list=results.pose_landmarks,\n",
    "                              connections=mp_pose.POSE_CONNECTIONS)\n",
    "\n",
    "    return output_image, glm_list, visibility_list, hip2d"
   ]
  },
  {
   "cell_type": "code",
   "execution_count": 5,
   "metadata": {},
   "outputs": [],
   "source": [
    "# cap = cv2.VideoCapture(0)\n"
   ]
  },
  {
   "cell_type": "code",
   "execution_count": 6,
   "metadata": {},
   "outputs": [],
   "source": [
    "model_file_name = '../sample_input_data/zom_model.json'\n",
    "with open(model_file_name) as f:\n",
    "        pix3d_json_object = json.load(f)\n",
    "is_find, hip_node = glmh.find_hips(pix3d_json_object[\"node\"])\n",
    "\n",
    "root_node = glmh.ModelNode()\n",
    "\n",
    "root_node.set_mixamo(hip_node, mm_name_idx_map)\n",
    "root_node.normalize_spine()\n"
   ]
  },
  {
   "cell_type": "code",
   "execution_count": 7,
   "metadata": {},
   "outputs": [
    {
     "name": "stdout",
     "output_type": "stream",
     "text": [
      "Ignoring empty camera frame.\n"
     ]
    }
   ],
   "source": [
    "mp_pose = mp.solutions.pose\n",
    "mp_drawing = mp.solutions.drawing_utils\n",
    "min_visibility = 0.5\n",
    "model_complexity = 1\n",
    "pose_video = mp_pose.Pose(static_image_mode=False,\n",
    "                        min_detection_confidence=min_visibility, \n",
    "                        model_complexity=model_complexity)\n",
    "\n",
    "import time\n",
    "\n",
    "cap = cv2.VideoCapture('../sample_input_data/figure.gif')\n",
    "\n",
    "while cap.isOpened():\n",
    "        clear_output()\n",
    "        success, image = cap.read()\n",
    "        if not success:\n",
    "            print(\"Ignoring empty camera frame.\")\n",
    "            # If loading a video, use 'break' instead of 'continue'.\n",
    "            # continue\n",
    "            break\n",
    "        image, glm_list, visibility_list, hip2d = detectPose2(mp_pose, mp_drawing, image, pose_video)\n",
    "        if glm_list[0] != None:\n",
    "            rv = []\n",
    "            rg = []\n",
    "            root_node.normalize(glm_list, mm_name_idx_map)\n",
    "            root_node.calc_animation(glm_list, mm_name_idx_map)\n",
    "            # root_node.get_vec_and_group_list(rv, rg, is_apply_tmp_transform= True)\n",
    "            # glmh.draw_list([v for v in rv ], rg, range= 1.0, azim= 0)\n",
    "            # time.sleep(0.1)\n",
    "\n",
    "        # print(glm_list)\n",
    "        cv2.imshow('MediaPipe Hands', image)\n",
    "        # else:\n",
    "            # cv2.imshow('MediaPipe Hands', cv2.flip(image, 1))\n",
    "            \n",
    "        if cv2.waitKey(5) & 0xFF == 27:\n",
    "            break\n",
    "cap.release()"
   ]
  }
 ],
 "metadata": {
  "kernelspec": {
   "display_name": "Python 3.9.9 64-bit ('system-3.9.9')",
   "language": "python",
   "name": "python3"
  },
  "language_info": {
   "codemirror_mode": {
    "name": "ipython",
    "version": 3
   },
   "file_extension": ".py",
   "mimetype": "text/x-python",
   "name": "python",
   "nbconvert_exporter": "python",
   "pygments_lexer": "ipython3",
   "version": "3.9.9"
  },
  "orig_nbformat": 4,
  "vscode": {
   "interpreter": {
    "hash": "78bdb2dcac2d744d0c30d0eaa331d55fe59e60d95f25fb3dacd42cea4b1d7e89"
   }
  }
 },
 "nbformat": 4,
 "nbformat_minor": 2
}
