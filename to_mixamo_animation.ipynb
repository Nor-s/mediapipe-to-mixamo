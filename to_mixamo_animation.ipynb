{
 "cells": [
  {
   "cell_type": "code",
   "execution_count": 1,
   "metadata": {},
   "outputs": [],
   "source": [
    "# IMPORTS\n",
    "import numpy as np\n",
    "import matplotlib.pyplot as plt\n",
    "import mpl_toolkits.mplot3d.axes3d as p3\n",
    "import matplotlib.animation as animation\n",
    "import json\n",
    "import ntpath\n",
    "import mixamo_helper as mm_helper\n",
    "from mixamo_helper import Mixamo\n",
    "from IPython.display import clear_output\n",
    "import copy\n",
    "import glm\n",
    "import pyglm_helper as glmh\n",
    "from multiprocessing import Process, Pool"
   ]
  },
  {
   "cell_type": "code",
   "execution_count": 2,
   "metadata": {},
   "outputs": [],
   "source": [
    "def find_hips(pixel3d_json):\n",
    "    if pixel3d_json[\"name\"] == 'Hips':\n",
    "        return [True, pixel3d_json]\n",
    "    else:\n",
    "        for child in pixel3d_json[\"child\"]:\n",
    "            is_find, result = find_hips(child)\n",
    "            if is_find:\n",
    "                return [is_find, result]\n",
    "        return [False, None]"
   ]
  },
  {
   "cell_type": "code",
   "execution_count": 3,
   "metadata": {},
   "outputs": [],
   "source": [
    "def get_anim_json(anim_file_name, model_file_name):\n",
    "    anim_json_object = None\n",
    "    with open(anim_file_name) as f:\n",
    "        anim_json_object = json.load(f)\n",
    "    pix3d_json_object = None\n",
    "    with open(model_file_name) as f:\n",
    "        pix3d_json_object = json.load(f)\n",
    "    is_find, hip_node =  find_hips(pix3d_json_object[\"node\"])\n",
    "    if not is_find:\n",
    "        return None\n",
    "    mixamo_name_idx_map = mm_helper.get_mixamo_name_idx_map()\n",
    "\n",
    "    size = len(anim_json_object[\"frames\"])\n",
    "    anim_file_json = {\n",
    "        \"fileName\": anim_json_object[\"fileName\"],\n",
    "        \"duration\": anim_json_object[\"duration\"],\n",
    "        \"ticksPerSecond\": anim_json_object[\"ticksPerSecond\"],\n",
    "        \"frames\": [\n",
    "        ]\n",
    "    }\n",
    "    my_pool = Pool()\n",
    "    frame_json = [None for i in range(0,size)]\n",
    "    for fidx in range(0, size):\n",
    "        frame_json[fidx] = my_pool.apply_async(glmh.get_anim_frame_json, (anim_json_object, fidx, hip_node, mixamo_name_idx_map))\n",
    "        \n",
    "    my_pool.close()\n",
    "    my_pool.join()\n",
    "    for f in frame_json:\n",
    "        if f != None:\n",
    "            anim_file_json[\"frames\"].append(f.get())\n",
    "    with open('./output/'+ ntpath.basename(anim_file_name) + '_'+ntpath.basename(model_file_name) + '_final.json', 'w') as f:\n",
    "        json_string = json.dump(anim_file_json, f, indent = 2)"
   ]
  },
  {
   "cell_type": "code",
   "execution_count": null,
   "metadata": {},
   "outputs": [],
   "source": [
    "get_anim_json('output/mixamo_attack.gif.json_mixamo.json', 'pixel3d_json/zom_model.json' )\n",
    "get_anim_json('output/mixamo_attack.gif.json_mixamo.json', 'pixel3d_json/amy_model.json' )\n",
    "get_anim_json('output/mixamo_attack.gif.json_mixamo.json', 'pixel3d_json/cyb_model.json' )"
   ]
  },
  {
   "cell_type": "code",
   "execution_count": 6,
   "metadata": {},
   "outputs": [],
   "source": [
    "get_anim_json('output/mixamo_dance.gif.json_mixamo.json', 'pixel3d_json/zom_model.json' )\n",
    "get_anim_json('output/mixamo_dance.gif.json_mixamo.json', 'pixel3d_json/amy_model.json' )\n",
    "get_anim_json('output/mixamo_dance.gif.json_mixamo.json', 'pixel3d_json/cyb_model.json' )"
   ]
  },
  {
   "cell_type": "code",
   "execution_count": null,
   "metadata": {},
   "outputs": [],
   "source": [
    "get_anim_json('output/mixamo_T_pose.gif.json_mixamo.json', 'pixel3d_json/zom_model.json' )\n",
    "get_anim_json('output/mixamo_T_pose.gif.json_mixamo.json', 'pixel3d_json/amy_model.json' )\n",
    "get_anim_json('output/mixamo_T_pose.gif.json_mixamo.json', 'pixel3d_json/cyb_model.json' )"
   ]
  }
 ],
 "metadata": {
  "kernelspec": {
   "display_name": "Python 3.9.9 64-bit ('system-3.9.9')",
   "language": "python",
   "name": "python3"
  },
  "language_info": {
   "codemirror_mode": {
    "name": "ipython",
    "version": 3
   },
   "file_extension": ".py",
   "mimetype": "text/x-python",
   "name": "python",
   "nbconvert_exporter": "python",
   "pygments_lexer": "ipython3",
   "version": "3.9.9"
  },
  "orig_nbformat": 4,
  "vscode": {
   "interpreter": {
    "hash": "78bdb2dcac2d744d0c30d0eaa331d55fe59e60d95f25fb3dacd42cea4b1d7e89"
   }
  }
 },
 "nbformat": 4,
 "nbformat_minor": 2
}
