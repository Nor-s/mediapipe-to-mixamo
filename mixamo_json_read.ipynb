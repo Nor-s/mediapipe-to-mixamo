{
 "cells": [
  {
   "cell_type": "code",
   "execution_count": 104,
   "metadata": {},
   "outputs": [],
   "source": [
    "# IMPORTS\n",
    "import numpy as np\n",
    "import matplotlib.pyplot as plt\n",
    "import mpl_toolkits.mplot3d.axes3d as p3\n",
    "import matplotlib.animation as animation\n",
    "import json\n",
    "# https://stackoverflow.com/questions/9401658/how-to-animate-a-scatter-plot"
   ]
  },
  {
   "cell_type": "code",
   "execution_count": 105,
   "metadata": {},
   "outputs": [],
   "source": [
    "def get_frame_dot(fidx, json_object):\n",
    "    dot1 = []\n",
    "    for idx in range(0, len(json_object['frames'][fidx][\"keypoints3D\"])):\n",
    "        landmark = json_object['frames'][fidx][\"keypoints3D\"][idx]\n",
    "        dot1.append([landmark['x'], landmark['y'], landmark['z']])\n",
    "    dot1.append([0.0, 0.0, 0.0])\n",
    "    return dot1   \n",
    "def get_frame_dot_with_mark(fidx, json_object):\n",
    "    dot1 = []\n",
    "    for idx in range(0, len(json_object['frames'][fidx][\"keypoints3D\"])):\n",
    "        landmark = json_object['frames'][fidx][\"keypoints3D\"][idx]\n",
    "        dot1.append([landmark['x'], landmark['y'], landmark['z']])\n",
    "        if idx <= 5: \n",
    "          dot1[idx].append('r')\n",
    "        elif idx <= 11: # left Arm\n",
    "          dot1[idx].append('g')\n",
    "        elif idx <= 17: # right Arm\n",
    "          dot1[idx].append('b')\n",
    "        elif idx <= 21: # left leg\n",
    "          dot1[idx].append('k')\n",
    "        else:\n",
    "          dot1[idx].append('m')\n",
    "        dot1[idx].append('o')\n",
    "    dot1.append([0.0, 0.0, 0.0, 'b', 's'])\n",
    "    return dot1"
   ]
  },
  {
   "cell_type": "code",
   "execution_count": 106,
   "metadata": {},
   "outputs": [],
   "source": [
    "json_object = None\n",
    "file_name = 'mediapipe_json/mixamo_attack.gif.json.json' \n",
    "with open(file_name) as f:\n",
    "    json_object = json.load(f)"
   ]
  },
  {
   "cell_type": "code",
   "execution_count": 107,
   "metadata": {},
   "outputs": [
    {
     "data": {
      "image/png": "[encoded data removed]",
      "text/plain": [
       "<Figure size 432x288 with 1 Axes>"
      ]
     },
     "metadata": {
      "needs_background": "light"
     },
     "output_type": "display_data"
    }
   ],
   "source": [
    "fig = plt.figure()\n",
    "ax = plt.axes(projection='3d')\n",
    "frames = min(len(json_object[\"frames\"]), 100)\n",
    "size = len(json_object[\"frames\"][0][\"keypoints3D\"])\n",
    "\n",
    "def update(i):\n",
    "    ax.clear()\n",
    "    dot1 = get_frame_dot_with_mark(i, json_object)\n",
    "    for i in range(0, size):\n",
    "        ax.scatter(dot1[i][0], dot1[i][1], dot1[i][2], c = dot1[i][3], marker= dot1[i][4])\n",
    "    ax.set_xlim3d([-1.0, 1.0])\n",
    "    ax.set_xlabel('X')\n",
    "\n",
    "    ax.set_ylim3d([-1.0, 1.0])\n",
    "    ax.set_ylabel('Y')\n",
    "\n",
    "    ax.set_zlim3d([-1.0, 1.0])\n",
    "    ax.set_zlabel('Z')\n",
    "\n",
    "    ax.set_title('Mixamo')\n",
    "    ax.view_init(10, 0)\n",
    "\n",
    "ani = animation.FuncAnimation(fig, update, frames=frames, interval=json_object[\"ticksPerSecond\"])\n",
    "ani.save(file_name +'.gif', writer='pillow')"
   ]
  }
 ],
 "metadata": {
  "interpreter": {
   "hash": "78bdb2dcac2d744d0c30d0eaa331d55fe59e60d95f25fb3dacd42cea4b1d7e89"
  },
  "kernelspec": {
   "display_name": "Python 3.9.9 64-bit ('system-3.9.9')",
   "language": "python",
   "name": "python3"
  },
  "language_info": {
   "codemirror_mode": {
    "name": "ipython",
    "version": 3
   },
   "file_extension": ".py",
   "mimetype": "text/x-python",
   "name": "python",
   "nbconvert_exporter": "python",
   "pygments_lexer": "ipython3",
   "version": "3.9.9"
  },
  "orig_nbformat": 4
 },
 "nbformat": 4,
 "nbformat_minor": 2
}
