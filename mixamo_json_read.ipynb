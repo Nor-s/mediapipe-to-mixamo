{
 "cells": [
  {
   "cell_type": "code",
   "execution_count": 22,
   "metadata": {},
   "outputs": [],
   "source": [
    "# IMPORTS\n",
    "import numpy as np\n",
    "import matplotlib.pyplot as plt\n",
    "import mpl_toolkits.mplot3d.axes3d as p3\n",
    "import matplotlib.animation as animation\n",
    "import json\n",
    "import mixamo_helper as mm_helper\n",
    "from multiprocessing import Process, Pool\n",
    "import glob\n",
    "# https://stackoverflow.com/questions/9401658/how-to-animate-a-scatter-plot"
   ]
  },
  {
   "cell_type": "markdown",
   "metadata": {},
   "source": [
    "## **Read mixamo json**"
   ]
  },
  {
   "cell_type": "code",
   "execution_count": 23,
   "metadata": {},
   "outputs": [],
   "source": [
    "my_pool = Pool()\n",
    "\n",
    "target_pattern = r\"output/*.json\"\n",
    "file_list = glob.glob(target_pattern)\n",
    "file_list = [file.replace('\\\\', '/') for file in file_list]\n",
    "for file in file_list:\n",
    "    json_object = None\n",
    "    with open(file) as f:\n",
    "        json_object = json.load(f)\n",
    "    my_pool.apply_async(mm_helper.json_to_gif, (json_object, './screenshot'))\n",
    "    my_pool.apply_async(mm_helper.json_to_gif, (json_object, './screenshot', 100 , True))\n",
    "    my_pool.apply_async(mm_helper.json_one_frame_to_360_gif, (json_object, 0,'./screenshot'))\n",
    "\n",
    "my_pool.close()\n",
    "my_pool.join()"
   ]
  }
 ],
 "metadata": {
  "interpreter": {
   "hash": "78bdb2dcac2d744d0c30d0eaa331d55fe59e60d95f25fb3dacd42cea4b1d7e89"
  },
  "kernelspec": {
   "display_name": "Python 3.9.9 64-bit ('system-3.9.9')",
   "language": "python",
   "name": "python3"
  },
  "language_info": {
   "codemirror_mode": {
    "name": "ipython",
    "version": 3
   },
   "file_extension": ".py",
   "mimetype": "text/x-python",
   "name": "python",
   "nbconvert_exporter": "python",
   "pygments_lexer": "ipython3",
   "version": "3.9.9"
  },
  "orig_nbformat": 4
 },
 "nbformat": 4,
 "nbformat_minor": 2
}
