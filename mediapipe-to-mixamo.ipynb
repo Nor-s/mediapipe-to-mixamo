{
 "cells": [
  {
   "cell_type": "markdown",
   "metadata": {},
   "source": [
    "# **Mediapipe To Mixamo**"
   ]
  },
  {
   "cell_type": "code",
   "execution_count": 1,
   "metadata": {},
   "outputs": [],
   "source": [
    "import matplotlib.pyplot as plt\n",
    "import numpy as np\n",
    "from mpl_toolkits.mplot3d import Axes3D\n",
    "import json\n",
    "from IPython.display import clear_output"
   ]
  },
  {
   "cell_type": "markdown",
   "metadata": {},
   "source": [
    "## **Draw mediapipe function**"
   ]
  },
  {
   "cell_type": "code",
   "execution_count": 14,
   "metadata": {},
   "outputs": [],
   "source": [
    "def draw_all_frame_mediapipe(json_object):\n",
    "  for fidx in range(0, len(json_object['frames'])):\n",
    "    clear_output(wait=True)\n",
    "    dot1 = []\n",
    "    for idx in range(0, 33):\n",
    "      landmark = json_object['frames'][fidx][\"keypoints3D\"][idx];\n",
    "      dot1.append([landmark['x'], landmark['y'], landmark['z']])\n",
    "      if idx < 10: \n",
    "        dot1[idx].append('r')\n",
    "      elif idx == 24 or idx == 23 or idx == 11 or idx == 12:\n",
    "        dot1[idx].append('b')\n",
    "      else:\n",
    "        dot1[idx].append('g')\n",
    "      dot1[idx].append('o')\n",
    "    dot1.append([0.0, 0.0, 0.0, 'b', 'H'])\n",
    "\n",
    "\n",
    "    fig = plt.figure()  \n",
    "    ax1 = plt.axes(projection='3d')\n",
    "    ax1.view_init(elev=10, azim=0)\n",
    "    ax1.set_xlim(-1.0, 1.0) \n",
    "    ax1.set_xlabel(\"x\") \n",
    "    ax1.set_ylim(-1.0, 1.0)  \n",
    "    ax1.set_ylabel(\"y\") \n",
    "    ax1.set_zlim(-1.0, 1.0)  \n",
    "    ax1.set_zlabel(\"z\") \n",
    "    color1 = ['r', 'g', 'b', 'k', 'm']\n",
    "    marker1 = ['o', 'v', '1', 's', 'H']\n",
    "    i = 0\n",
    "    for x in dot1:\n",
    "      ax1.scatter3D(x[0],x[1],x[2], c=x[3],\n",
    "                  marker= x[4], linewidths=1)  \n",
    "      i += 1\n",
    "    plt.show()\n",
    "\n",
    "def draw_mediapipe(json_object, fidx):\n",
    "  dot1 = []\n",
    "  for idx in range(0, 33):\n",
    "    landmark = json_object['frames'][fidx][\"keypoints3D\"][idx];\n",
    "    dot1.append([landmark['x'], landmark['y'], landmark['z']])\n",
    "    if idx < 10: \n",
    "      dot1[idx].append('r')\n",
    "    elif idx == 24 or idx == 23 or idx == 11 or idx == 12:\n",
    "      dot1[idx].append('b')\n",
    "    else:\n",
    "      dot1[idx].append('g')\n",
    "    dot1[idx].append('o')\n",
    "  dot1.append([0.0, 0.0, 0.0, 'b', 'H'])\n",
    "\n",
    "\n",
    "  fig = plt.figure()  \n",
    "  ax1 = plt.axes(projection='3d')\n",
    "  ax1.view_init(elev=10, azim=0)\n",
    "  ax1.set_xlim(-1.0, 1.0) \n",
    "  ax1.set_xlabel(\"x\") \n",
    "  ax1.set_ylim(-1.0, 1.0)  \n",
    "  ax1.set_ylabel(\"y\") \n",
    "  ax1.set_zlim(-1.0, 1.0)  \n",
    "  ax1.set_zlabel(\"z\") \n",
    "  color1 = ['r', 'g', 'b', 'k', 'm']\n",
    "  marker1 = ['o', 'v', '1', 's', 'H']\n",
    "  i = 0\n",
    "  for x in dot1:\n",
    "    ax1.scatter3D(x[0],x[1],x[2], c=x[3],\n",
    "                marker= x[4], linewidths=1)  \n",
    "    i += 1\n",
    "  plt.show()"
   ]
  },
  {
   "cell_type": "markdown",
   "metadata": {},
   "source": [
    "## **Open Mediapipe Json file**"
   ]
  },
  {
   "cell_type": "code",
   "execution_count": 7,
   "metadata": {},
   "outputs": [],
   "source": [
    "json_object = None\n",
    "with open('mediapipe_json/mixamo_attack.gif.json') as f:\n",
    "    json_object = json.load(f)"
   ]
  },
  {
   "cell_type": "code",
   "execution_count": 19,
   "metadata": {},
   "outputs": [
    {
     "data": {
      "image/png": "[encoded data removed]",
      "text/plain": [
       "<Figure size 432x288 with 1 Axes>"
      ]
     },
     "metadata": {
      "needs_background": "light"
     },
     "output_type": "display_data"
    }
   ],
   "source": [
    "draw_mediapipe(json_object, 222)"
   ]
  },
  {
   "cell_type": "markdown",
   "metadata": {},
   "source": [
    "## **Mixamo Bone Name** "
   ]
  },
  {
   "cell_type": "code",
   "execution_count": null,
   "metadata": {},
   "outputs": [],
   "source": [
    "mixamo_bone_name= [\n",
    "    'Hips, 0, -1',\n",
    "    'Spine, 1, 0',\n",
    "        'Spine1, 2, 1',\n",
    "            'Spine2, 3, 2',\n",
    "\n",
    "                'Neck, 4, 3',\n",
    "                    'Head, 5, 4',\n",
    "\n",
    "                'LeftArm, 6,3',\n",
    "                    'LeftForeArm, 7, 6',\n",
    "                        'LeftHand, 8,7',\n",
    "                            'LeftHandThumb1, 9, 8',\n",
    "                            'LeftHandIndex1, 10, 9',\n",
    "                            'LeftHandPinky1, 11, 10',\n",
    "\n",
    "                'RightArm, 12, 3',\n",
    "                    'RightForeArm, 13, 12',\n",
    "                        'RightHand, 14, 13',\n",
    "                            'RightHandThumb1, 15, 14',\n",
    "                            'RightHandIndex1, 16, 15',\n",
    "                            'RightHandPinky1, 17, 16',\n",
    "    'LeftLeg, 18, 0',\n",
    "        'LeftUpLeg, 19, 18',\n",
    "            'LeftFoot, 20, 19'\n",
    "    'RightLeg, 21, 0',\n",
    "        'RightUpLeg, 22, 21',\n",
    "            'LeftFoot, 23, 22'\n",
    "]"
   ]
  }
 ],
 "metadata": {
  "interpreter": {
   "hash": "78bdb2dcac2d744d0c30d0eaa331d55fe59e60d95f25fb3dacd42cea4b1d7e89"
  },
  "kernelspec": {
   "display_name": "Python 3.9.9 64-bit ('system-3.9.9')",
   "language": "python",
   "name": "python3"
  },
  "language_info": {
   "codemirror_mode": {
    "name": "ipython",
    "version": 3
   },
   "file_extension": ".py",
   "mimetype": "text/x-python",
   "name": "python",
   "nbconvert_exporter": "python",
   "pygments_lexer": "ipython3",
   "version": "3.9.9"
  },
  "orig_nbformat": 4
 },
 "nbformat": 4,
 "nbformat_minor": 2
}
