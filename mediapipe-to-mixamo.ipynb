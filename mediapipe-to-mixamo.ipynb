{
 "cells": [
  {
   "cell_type": "markdown",
   "metadata": {},
   "source": [
    "# **Mediapipe To Mixamo**"
   ]
  },
  {
   "cell_type": "code",
   "execution_count": 7,
   "metadata": {},
   "outputs": [],
   "source": [
    "import matplotlib.pyplot as plt\n",
    "import numpy as np\n",
    "from mpl_toolkits.mplot3d import Axes3D\n",
    "import json\n",
    "from IPython.display import clear_output\n",
    "import matplotlib.animation\n",
    "from mediapipe_pose_to_json import mediapipe_helper as mp_helper\n",
    "import mixamo_helper as mm_helper\n",
    "import ntpath\n",
    "import glob\n",
    "import math"
   ]
  },
  {
   "cell_type": "code",
   "execution_count": 8,
   "metadata": {},
   "outputs": [],
   "source": [
    "g_mixamoName_mediapipeName_map = mm_helper.get_mixamo_name_mediapipe_name_map()\n",
    "g_mediapipeName_idx_map = mp_helper.get_name_idx_map()\n",
    "g_mixamoName = mm_helper.mixamo_names"
   ]
  },
  {
   "cell_type": "markdown",
   "metadata": {},
   "source": [
    "## **Mediapipe To Mixamo**"
   ]
  },
  {
   "cell_type": "code",
   "execution_count": 9,
   "metadata": {},
   "outputs": [],
   "source": [
    "def avg3D(point1, point2):\n",
    "    return [float(point1[0] + point2[0])/2.0, \n",
    "            float(point1[1]+ point2[1])/2.0, \n",
    "            float(point1[2]+ point2[2])/2.0, \n",
    "            float(point1[3]+ point2[3])/2.0]\n",
    "\n",
    "def avgMixamoData(mediapipeJsonObject, frameNum, name1, name2):\n",
    "    left = mediapipeJsonObject[frameNum][\"keypoints3D\"][g_mediapipeName_idx_map[name1]]\n",
    "    right = mediapipeJsonObject[frameNum][\"keypoints3D\"][g_mediapipeName_idx_map[name2]]\n",
    "    x = float(left['x'] + right['x']) / 2.0\n",
    "    y = float(left['y'] + right['y']) / 2.0\n",
    "    z = float(left['z'] + right['z']) / 2.0\n",
    "    score = (left['score'] + right['score']) / 2.0 \n",
    "    return [x, y, z, score]\n",
    "\n",
    "def mediapipeToMixamoHip(resultKeyPointsJsonObject, mediapipeJsonObject, frameNum):\n",
    "    #left hip <->right hip\n",
    "    x, y, z, score = avgMixamoData(mediapipeJsonObject, frameNum, \"left_hip\", \"right_hip\")\n",
    "    resultKeyPointsJsonObject[\"keypoints3D\"].append({'x': 0.0, \n",
    "                                                     'y': 0.0, \n",
    "                                                     'z': 0.0, \n",
    "                                                     'score': score, \n",
    "                                                     'name': g_mixamoName[0][0], \n",
    "                                                     'parent': g_mixamoName[0][2]})\n",
    "    lefthip2d = mediapipeJsonObject[frameNum][\"keypoints\"][g_mediapipeName_idx_map[\"left_hip\"]]\n",
    "    righthip2d = mediapipeJsonObject[frameNum][\"keypoints\"][g_mediapipeName_idx_map[\"right_hip\"]]\n",
    "    resultKeyPointsJsonObject[\"keypoints\"].append({'x': (lefthip2d['x'] + righthip2d['x'])/ 2.0, \n",
    "                                                     'y': (lefthip2d['y']+ righthip2d['y'])/ 2.0, \n",
    "                                                     'z': (lefthip2d['z'] + righthip2d['z'])/ 2.0, \n",
    "                                                     'score':(lefthip2d['score']+ righthip2d['score'])/ 2.0, \n",
    "                                                     'name': g_mixamoName[0][0], \n",
    "                                                     'parent': g_mixamoName[0][2]})\n",
    "    return\n",
    "def mediapipeToMixamoSpine(resultKeyPointsJsonObject, mediapipeJsonObject, frameNum):\n",
    "    # left_hip, right_hip, left_shoulder, right_shoulder\n",
    "    hip = avgMixamoData(mediapipeJsonObject, frameNum, \"left_hip\", \"right_hip\")\n",
    "    neck = avgMixamoData(mediapipeJsonObject, frameNum, \"left_shoulder\", \"right_shoulder\")\n",
    "    spine2 = avg3D(hip, neck)\n",
    "    spine1 = avg3D(hip, spine2)\n",
    "    spine3 = avg3D(spine2, neck)\n",
    "    spine = [spine1, spine2, spine3]\n",
    "    for idx in range(0, len(spine)):\n",
    "        resultKeyPointsJsonObject[\"keypoints3D\"].append({'x': spine[idx][0], \n",
    "                                                     'y': spine[idx][1], \n",
    "                                                     'z': spine[idx][2], \n",
    "                                                     'score': spine[idx][3], \n",
    "                                                     'name': g_mixamoName[idx+1][0], \n",
    "                                                     'parent': g_mixamoName[idx+1][2]}) \n",
    "\n",
    "def mediapipeToMixamoNeck(resultKeyPointsJsonObject, mediapipeJsonObject, frameNum):\n",
    "    # left_shoulder <-> right_shoulder\n",
    "    x, y, z, score = avgMixamoData(mediapipeJsonObject, frameNum, \"left_shoulder\", \"right_shoulder\")\n",
    "    resultKeyPointsJsonObject[\"keypoints3D\"].append({'x': x, \n",
    "                                                     'y': y, \n",
    "                                                     'z': z, \n",
    "                                                     'score': score, \n",
    "                                                     'name': g_mixamoName[4][0], \n",
    "                                                     'parent': g_mixamoName[4][2]})\n",
    "    return\n",
    "def mediapipeToMixamoHead(resultKeyPointsJsonObject, mediapipeJsonObject, frameNum):\n",
    "    # left_shoulder <-> right_shoulder\n",
    "    x, y, z, score = avgMixamoData(mediapipeJsonObject, frameNum, \"left_ear\", \"right_ear\")\n",
    "    resultKeyPointsJsonObject[\"keypoints3D\"].append({'x': x, \n",
    "                                                     'y': y, \n",
    "                                                     'z': z, \n",
    "                                                     'score': score, \n",
    "                                                     'name': g_mixamoName[5][0], \n",
    "                                                     'parent': g_mixamoName[5][2]})\n",
    "    return\n",
    "def mediapipeToMixamoAll(resultKeyPointsJsonObject, mediapipeJsonObject, frameNum):\n",
    "    frameKeypoints =  mediapipeJsonObject[frameNum][\"keypoints3D\"]\n",
    "    for idx in range(6, len(g_mixamoName)):\n",
    "        mediapipeName = g_mixamoName_mediapipeName_map[g_mixamoName[idx][0]]\n",
    "        mediapipeIdx = g_mediapipeName_idx_map[mediapipeName]\n",
    "        keypoint = frameKeypoints[mediapipeIdx]\n",
    "        resultKeyPointsJsonObject[\"keypoints3D\"].append({'x': keypoint['x'], \n",
    "                                                         'y': keypoint['y'], \n",
    "                                                         'z': keypoint['z'], \n",
    "                                                         'score': keypoint['score'], \n",
    "                                                         'name': g_mixamoName[idx][0], \n",
    "                                                         'parent': g_mixamoName[idx][2]})\n",
    "    return\n",
    "\n",
    "def mediapipeToMixamo(mediapipeJsonObject):\n",
    "    jsonObject = {\n",
    "        \"fileName\": mediapipeJsonObject['fileName'],\n",
    "        \"duration\": mediapipeJsonObject['duration'],\n",
    "        \"ticksPerSecond\": mediapipeJsonObject['ticksPerSecond'],\n",
    "        \"frames\": []\n",
    "    }\n",
    "    for fidx in range(0, len(mediapipeJsonObject['frames'])):\n",
    "        keypointsJsonObject = {\n",
    "            \"frameNum\":  fidx,\n",
    "            \"keypoints3D\": [],\n",
    "            \"keypoints\": [],\n",
    "            \"heel3D\": [\n",
    "                {\n",
    "                \"name\": \"LeftHeel\",\n",
    "                \"x\": mediapipeJsonObject['frames'][fidx]['keypoints3D'][g_mediapipeName_idx_map['left_heel']]['x'],\n",
    "                \"y\":mediapipeJsonObject['frames'][fidx]['keypoints3D'][g_mediapipeName_idx_map['left_heel']]['y'],\n",
    "                \"z\":mediapipeJsonObject['frames'][fidx]['keypoints3D'][g_mediapipeName_idx_map['left_heel']]['z'],\n",
    "                \"score\":mediapipeJsonObject['frames'][fidx]['keypoints3D'][g_mediapipeName_idx_map['left_heel']]['score']\n",
    "                }, \n",
    "                {\n",
    "                \"name\": \"RightHeel\",\n",
    "                \"x\": mediapipeJsonObject['frames'][fidx]['keypoints3D'][g_mediapipeName_idx_map['right_heel']]['x'],\n",
    "                \"y\":mediapipeJsonObject['frames'][fidx]['keypoints3D'][g_mediapipeName_idx_map['right_heel']]['y'],\n",
    "                \"z\":mediapipeJsonObject['frames'][fidx]['keypoints3D'][g_mediapipeName_idx_map['right_heel']]['z'],\n",
    "                \"score\":mediapipeJsonObject['frames'][fidx]['keypoints3D'][g_mediapipeName_idx_map['right_heel']]['score']\n",
    "                },\n",
    "            ]\n",
    "        }\n",
    "        mediapipeToMixamoHip(keypointsJsonObject, mediapipeJsonObject['frames'], fidx)\n",
    "        mediapipeToMixamoSpine(keypointsJsonObject, mediapipeJsonObject['frames'], fidx)\n",
    "        mediapipeToMixamoNeck(keypointsJsonObject, mediapipeJsonObject['frames'], fidx)\n",
    "        mediapipeToMixamoHead(keypointsJsonObject, mediapipeJsonObject['frames'], fidx)\n",
    "        mediapipeToMixamoAll(keypointsJsonObject, mediapipeJsonObject['frames'], fidx)\n",
    "        jsonObject[\"frames\"].append(keypointsJsonObject)\n",
    "    return jsonObject"
   ]
  },
  {
   "cell_type": "markdown",
   "metadata": {},
   "source": [
    "## **Open All Mediapipe Json file in /mediapipe_pose_to_json/output**"
   ]
  },
  {
   "cell_type": "code",
   "execution_count": 10,
   "metadata": {},
   "outputs": [],
   "source": [
    "target_pattern = r\"mediapipe_pose_to_json/output/*.json\"\n",
    "file_list = glob.glob(target_pattern)\n",
    "file_list = [file.replace('\\\\', '/') for file in file_list]\n",
    "for file in file_list:\n",
    "    json_object = None\n",
    "    with open(file) as f:\n",
    "        json_object = json.load(f)\n",
    "    mixamoJsonObject = mediapipeToMixamo(json_object)\n",
    "    with open('./output/' + ntpath.basename(file) + '_mixamo.json', 'w') as f:\n",
    "        json_string = json.dump(mixamoJsonObject, f, indent=2)    "
   ]
  }
 ],
 "metadata": {
  "kernelspec": {
   "display_name": "Python 3.9.9 64-bit ('system-3.9.9')",
   "language": "python",
   "name": "python3"
  },
  "language_info": {
   "codemirror_mode": {
    "name": "ipython",
    "version": 3
   },
   "file_extension": ".py",
   "mimetype": "text/x-python",
   "name": "python",
   "nbconvert_exporter": "python",
   "pygments_lexer": "ipython3",
   "version": "3.9.9"
  },
  "orig_nbformat": 4,
  "vscode": {
   "interpreter": {
    "hash": "78bdb2dcac2d744d0c30d0eaa331d55fe59e60d95f25fb3dacd42cea4b1d7e89"
   }
  }
 },
 "nbformat": 4,
 "nbformat_minor": 2
}
