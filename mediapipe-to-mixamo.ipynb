{
 "cells": [
  {
   "cell_type": "markdown",
   "metadata": {},
   "source": [
    "# **Mediapipe To Mixamo**"
   ]
  },
  {
   "cell_type": "code",
   "execution_count": 127,
   "metadata": {},
   "outputs": [],
   "source": [
    "import matplotlib.pyplot as plt\n",
    "import numpy as np\n",
    "from mpl_toolkits.mplot3d import Axes3D\n",
    "import json\n",
    "from IPython.display import clear_output\n",
    "import matplotlib.animation"
   ]
  },
  {
   "cell_type": "markdown",
   "metadata": {},
   "source": [
    "## **Draw mediapipe function**"
   ]
  },
  {
   "cell_type": "code",
   "execution_count": 128,
   "metadata": {},
   "outputs": [],
   "source": [
    "def draw_mediapipe(json_object, fidx):\n",
    "  dot1 = []\n",
    "  for idx in range(0, 33):\n",
    "    landmark = json_object['frames'][fidx][\"keypoints3D\"][idx];\n",
    "    dot1.append([landmark['x'], landmark['y'], landmark['z']])\n",
    "    if idx < 10: \n",
    "      dot1[idx].append('r')\n",
    "    elif idx == 24 or idx == 23 or idx == 11 or idx == 12:\n",
    "      dot1[idx].append('b')\n",
    "    else:\n",
    "      dot1[idx].append('g')\n",
    "    dot1[idx].append('o')\n",
    "  dot1.append([0.0, 0.0, 0.0, 'b', 'H'])\n",
    "\n",
    "\n",
    "  fig = plt.figure()  \n",
    "  ax1 = plt.axes(projection='3d')\n",
    "  ax1.view_init(elev=10, azim=0)\n",
    "  ax1.set_xlim(-1.0, 1.0) \n",
    "  ax1.set_xlabel(\"x\") \n",
    "  ax1.set_ylim(-1.0, 1.0)  \n",
    "  ax1.set_ylabel(\"y\") \n",
    "  ax1.set_zlim(-1.0, 1.0)  \n",
    "  ax1.set_zlabel(\"z\") \n",
    "  color1 = ['r', 'g', 'b', 'k', 'm']\n",
    "  marker1 = ['o', 'v', '1', 's', 'H']\n",
    "  i = 0\n",
    "  for x in dot1:\n",
    "    ax1.scatter3D(x[0],x[1],x[2], c=x[3],\n",
    "                marker= x[4], linewidths=1)  \n",
    "    i += 1\n",
    "  plt.show()\n",
    "  return\n",
    "\n",
    "def draw_all_frame_mediapipe(json_object):\n",
    "  for fidx in range(0, len(json_object['frames'])):\n",
    "    clear_output(wait=True)\n",
    "    draw_mediapipe(json_object, fidx)\n",
    "  return"
   ]
  },
  {
   "cell_type": "markdown",
   "metadata": {},
   "source": [
    "## **Mixamo Bone Name** "
   ]
  },
  {
   "cell_type": "code",
   "execution_count": 129,
   "metadata": {},
   "outputs": [],
   "source": [
    "g_mixamoName= [\n",
    "    ['Hips', 0, -1],   #left hip <->right hip\n",
    "    ['Spine', 1, 0],\n",
    "        ['Spine1', 2, 1],\n",
    "            ['Spine2', 3, 2],\n",
    "\n",
    "                ['Neck', 4, 3], # left_shoulder <-> right_shoulder\n",
    "                    ['Head', 5, 4],# left_ear <-> right_ear\n",
    "\n",
    "                ['LeftArm', 6,3, \"left_shoulder\"],\n",
    "                    ['LeftForeArm', 7, 6, \"left_elbow\"],\n",
    "                        ['LeftHand', 8,7, \"left_wrist\"],\n",
    "                            ['LeftHandThumb1', 9, 8, \"left_thumb\"],\n",
    "                            ['LeftHandIndex1', 10, 9, \"left_index\"],\n",
    "                            ['LeftHandPinky1', 11, 10, \"left_pinky\"],\n",
    "\n",
    "                ['RightArm', 12, 3, \"right_shoulder\"],\n",
    "                    ['RightForeArm', 13, 12, \"right_elbow\"],\n",
    "                        ['RightHand', 14, 13, \"right_wrist\"],\n",
    "                            ['RightHandThumb1', 15, 14, \"right_thumb\"],\n",
    "                            ['RightHandIndex1', 16, 15, \"right_index\"],\n",
    "                            ['RightHandPinky1', 17, 16, \"right_pinky\"],\n",
    "    ['LeftLeg', 18, 0, \"left_hip\"],\n",
    "        ['LeftUpLeg', 19, 18, \"left_knee\"],\n",
    "            ['LeftFoot', 20, 19, \"left_ankle\"],\n",
    "                ['LeftToeBase',21, 20, \"left_foot_index\"],\n",
    "    ['RightLeg', 22, 0, \"right_hip\"],\n",
    "        ['RightUpLeg', 23, 22, \"right_knee\"],\n",
    "            ['RightFoot', 24, 23, \"right_ankle\"],\n",
    "                ['RightToeBase',25, 24, \"right_foot_index\"]\n",
    "]"
   ]
  },
  {
   "cell_type": "markdown",
   "metadata": {},
   "source": [
    "## **Mediapipe name**"
   ]
  },
  {
   "cell_type": "code",
   "execution_count": 130,
   "metadata": {},
   "outputs": [
    {
     "data": {
      "text/plain": [
       "{'nose': 0,\n",
       " 'left_eye_inner': 1,\n",
       " 'left_eye': 2,\n",
       " 'left_eye_outer': 3,\n",
       " 'right_eye_inner': 4,\n",
       " 'right_eye': 5,\n",
       " 'right_eye_outer': 6,\n",
       " 'left_ear': 7,\n",
       " 'right_ear': 8,\n",
       " 'mouth_left': 9,\n",
       " 'mouth_right': 10,\n",
       " 'left_shoulder': 11,\n",
       " 'right_shoulder': 12,\n",
       " 'left_elbow': 13,\n",
       " 'right_elbow': 14,\n",
       " 'left_wrist': 15,\n",
       " 'right_wrist': 16,\n",
       " 'left_pinky': 17,\n",
       " 'right_pinky': 18,\n",
       " 'left_index': 19,\n",
       " 'right_index': 20,\n",
       " 'left_thumb': 21,\n",
       " 'right_thumb': 22,\n",
       " 'left_hip': 23,\n",
       " 'right_hip': 24,\n",
       " 'left_knee': 25,\n",
       " 'right_knee': 26,\n",
       " 'left_ankle': 27,\n",
       " 'right_ankle': 28,\n",
       " 'left_heel': 29,\n",
       " 'right_heel': 30,\n",
       " 'left_foot_index': 31,\n",
       " 'right_foot_index': 32}"
      ]
     },
     "execution_count": 130,
     "metadata": {},
     "output_type": "execute_result"
    }
   ],
   "source": [
    "g_mediapipeName = [\n",
    " \"nose\"\n",
    ",\"left_eye_inner\"\n",
    ",\"left_eye\"\n",
    ",\"left_eye_outer\"\n",
    ",\"right_eye_inner\"\n",
    ",\"right_eye\"\n",
    ",\"right_eye_outer\"\n",
    ",\"left_ear\"\n",
    ",\"right_ear\"\n",
    ",\"mouth_left\"\n",
    ",\"mouth_right\"\n",
    ",\"left_shoulder\"\n",
    ",\"right_shoulder\"\n",
    ",\"left_elbow\"\n",
    ",\"right_elbow\"\n",
    ",\"left_wrist\"\n",
    ",\"right_wrist\"\n",
    ",\"left_pinky\"\n",
    ",\"right_pinky\"\n",
    ",\"left_index\"\n",
    ",\"right_index\"\n",
    ",\"left_thumb\"\n",
    ",\"right_thumb\"\n",
    ",\"left_hip\"\n",
    ",\"right_hip\"\n",
    ",\"left_knee\"\n",
    ",\"right_knee\"\n",
    ",\"left_ankle\"\n",
    ",\"right_ankle\"\n",
    ",\"left_heel\"\n",
    ",\"right_heel\"\n",
    ",\"left_foot_index\"\n",
    ",\"right_foot_index\"]\n",
    "\n",
    "g_mediapipeName_idx_map = {}\n",
    "for idx in range(0, len(g_mediapipeName)):\n",
    "    g_mediapipeName_idx_map[g_mediapipeName[idx]] = idx\n",
    "g_mediapipeName_idx_map"
   ]
  },
  {
   "cell_type": "code",
   "execution_count": 131,
   "metadata": {},
   "outputs": [
    {
     "data": {
      "text/plain": [
       "{'LeftArm': 'left_shoulder',\n",
       " 'LeftForeArm': 'left_elbow',\n",
       " 'LeftHand': 'left_wrist',\n",
       " 'LeftHandThumb1': 'left_thumb',\n",
       " 'LeftHandIndex1': 'left_index',\n",
       " 'LeftHandPinky1': 'left_pinky',\n",
       " 'RightArm': 'right_shoulder',\n",
       " 'RightForeArm': 'right_elbow',\n",
       " 'RightHand': 'right_wrist',\n",
       " 'RightHandThumb1': 'right_thumb',\n",
       " 'RightHandIndex1': 'right_index',\n",
       " 'RightHandPinky1': 'right_pinky',\n",
       " 'LeftLeg': 'left_hip',\n",
       " 'LeftUpLeg': 'left_knee',\n",
       " 'LeftFoot': 'left_ankle',\n",
       " 'LeftToeBase': 'left_foot_index',\n",
       " 'RightLeg': 'right_hip',\n",
       " 'RightUpLeg': 'right_knee',\n",
       " 'RightFoot': 'right_ankle',\n",
       " 'RightToeBase': 'right_foot_index'}"
      ]
     },
     "execution_count": 131,
     "metadata": {},
     "output_type": "execute_result"
    }
   ],
   "source": [
    "g_mixamoName_mediapipeName_map = {}\n",
    "for idx in range(6, len(g_mixamoName)):\n",
    "    g_mixamoName_mediapipeName_map[g_mixamoName[idx][0]] = g_mixamoName[idx][3] \n",
    "g_mixamoName_mediapipeName_map"
   ]
  },
  {
   "cell_type": "markdown",
   "metadata": {},
   "source": [
    "## **Mediapipe To Mixamo**"
   ]
  },
  {
   "cell_type": "code",
   "execution_count": 132,
   "metadata": {},
   "outputs": [],
   "source": [
    "def avg3D(point1, point2):\n",
    "    return [float(point1[0] + point2[0])/2.0, \n",
    "            float(point1[1]+ point2[1])/2.0, \n",
    "            float(point1[2]+ point2[2])/2.0, \n",
    "            float(point1[3]+ point2[3])/2.0]\n",
    "\n",
    "def avgMixamoData(mediapipeJsonObject, frameNum, name1, name2):\n",
    "    left = mediapipeJsonObject[frameNum][\"keypoints3D\"][g_mediapipeName_idx_map[name1]]\n",
    "    right = mediapipeJsonObject[frameNum][\"keypoints3D\"][g_mediapipeName_idx_map[name2]]\n",
    "    x = float(left['x'] + right['x']) / 2.0\n",
    "    y = float(left['y'] + right['y']) / 2.0\n",
    "    z = float(left['z'] + right['z']) / 2.0\n",
    "    score = (left['score'] + right['score']) / 2.0 \n",
    "    return [x, y, z, score]\n",
    "\n",
    "def mediapipeToMixamoHip(resultKeyPointsJsonObject, mediapipeJsonObject, frameNum):\n",
    "    #left hip <->right hip\n",
    "    x, y, z, score = avgMixamoData(mediapipeJsonObject, frameNum, \"left_hip\", \"right_hip\")\n",
    "    resultKeyPointsJsonObject[\"keypoints3D\"].append({'x': 0.0, \n",
    "                                                     'y': 0.0, \n",
    "                                                     'z': 0.0, \n",
    "                                                     'score': score, \n",
    "                                                     'name': g_mixamoName[0][0], \n",
    "                                                     'parent': g_mixamoName[0][2]})\n",
    "    return\n",
    "def mediapipeToMixamoSpine(resultKeyPointsJsonObject, mediapipeJsonObject, frameNum):\n",
    "    # left_hip, right_hip, left_shoulder, right_shoulder\n",
    "    hip = avgMixamoData(mediapipeJsonObject, frameNum, \"left_hip\", \"right_hip\")\n",
    "    neck = avgMixamoData(mediapipeJsonObject, frameNum, \"left_shoulder\", \"right_shoulder\")\n",
    "    spine2 = avg3D(hip, neck)\n",
    "    spine1 = avg3D(hip, spine2)\n",
    "    spine3 = avg3D(spine2, neck)\n",
    "    spine = [spine1, spine2, spine3]\n",
    "    for idx in range(0, len(spine)):\n",
    "        resultKeyPointsJsonObject[\"keypoints3D\"].append({'x': spine[idx][0], \n",
    "                                                     'y': spine[idx][1], \n",
    "                                                     'z': spine[idx][2], \n",
    "                                                     'score': spine[idx][3], \n",
    "                                                     'name': g_mixamoName[idx+1][0], \n",
    "                                                     'parent': g_mixamoName[idx+1][2]}) \n",
    "\n",
    "def mediapipeToMixamoNeck(resultKeyPointsJsonObject, mediapipeJsonObject, frameNum):\n",
    "    # left_shoulder <-> right_shoulder\n",
    "    x, y, z, score = avgMixamoData(mediapipeJsonObject, frameNum, \"left_shoulder\", \"right_shoulder\")\n",
    "    resultKeyPointsJsonObject[\"keypoints3D\"].append({'x': x, \n",
    "                                                     'y': y, \n",
    "                                                     'z': z, \n",
    "                                                     'score': score, \n",
    "                                                     'name': g_mixamoName[4][0], \n",
    "                                                     'parent': g_mixamoName[4][2]})\n",
    "    return\n",
    "def mediapipeToMixamoHead(resultKeyPointsJsonObject, mediapipeJsonObject, frameNum):\n",
    "    # left_shoulder <-> right_shoulder\n",
    "    x, y, z, score = avgMixamoData(mediapipeJsonObject, frameNum, \"left_ear\", \"right_ear\")\n",
    "    resultKeyPointsJsonObject[\"keypoints3D\"].append({'x': x, \n",
    "                                                     'y': y, \n",
    "                                                     'z': z, \n",
    "                                                     'score': score, \n",
    "                                                     'name': g_mixamoName[5][0], \n",
    "                                                     'parent': g_mixamoName[5][2]})\n",
    "    return\n",
    "def mediapipeToMixamoAll(resultKeyPointsJsonObject, mediapipeJsonObject, frameNum):\n",
    "    frameKeypoints =  mediapipeJsonObject[frameNum][\"keypoints3D\"]\n",
    "    for idx in range(6, len(g_mixamoName)):\n",
    "        mediapipeName = g_mixamoName_mediapipeName_map[g_mixamoName[idx][0]]\n",
    "        mediapipeIdx = g_mediapipeName_idx_map[mediapipeName]\n",
    "        keypoint = frameKeypoints[mediapipeIdx]\n",
    "        resultKeyPointsJsonObject[\"keypoints3D\"].append({'x': keypoint['x'], \n",
    "                                                         'y': keypoint['y'], \n",
    "                                                         'z': keypoint['z'], \n",
    "                                                         'score': keypoint['score'], \n",
    "                                                         'name': g_mixamoName[idx][0], \n",
    "                                                         'parent': g_mixamoName[idx][2]})\n",
    "    return\n",
    "\n",
    "def mediapipeToMixamo(mediapipeJsonObject):\n",
    "    jsonObject = {\n",
    "        \"fileName\": mediapipeJsonObject['fileName'],\n",
    "        \"duration\": mediapipeJsonObject['duration'],\n",
    "        \"ticksPerSecond\": mediapipeJsonObject['ticksPerSecond'],\n",
    "        \"frames\": []\n",
    "    }\n",
    "    for fidx in range(0, len(mediapipeJsonObject['frames'])):\n",
    "        keypointsJsonObject = {\n",
    "            \"frameNum\":  fidx,\n",
    "            \"keypoints3D\": []\n",
    "        }\n",
    "        mediapipeToMixamoHip(keypointsJsonObject, mediapipeJsonObject['frames'], fidx)\n",
    "        mediapipeToMixamoSpine(keypointsJsonObject, mediapipeJsonObject['frames'], fidx)\n",
    "        mediapipeToMixamoNeck(keypointsJsonObject, mediapipeJsonObject['frames'], fidx)\n",
    "        mediapipeToMixamoHead(keypointsJsonObject, mediapipeJsonObject['frames'], fidx)\n",
    "        mediapipeToMixamoAll(keypointsJsonObject, mediapipeJsonObject['frames'], fidx)\n",
    "        jsonObject[\"frames\"].append(keypointsJsonObject)\n",
    "    return jsonObject"
   ]
  },
  {
   "cell_type": "markdown",
   "metadata": {},
   "source": [
    "## **Open Mediapipe Json file**"
   ]
  },
  {
   "cell_type": "code",
   "execution_count": 133,
   "metadata": {},
   "outputs": [],
   "source": [
    "json_object = None\n",
    "file_name = 'mediapipe_json/mixamo_T_pose.gif.json' \n",
    "with open(file_name) as f:\n",
    "    json_object = json.load(f)"
   ]
  },
  {
   "cell_type": "code",
   "execution_count": 134,
   "metadata": {},
   "outputs": [
    {
     "data": {
      "image/png": "[encoded data removed]",
      "text/plain": [
       "<Figure size 432x288 with 1 Axes>"
      ]
     },
     "metadata": {
      "needs_background": "light"
     },
     "output_type": "display_data"
    },
    {
     "data": {
      "text/plain": [
       "{'x': 0.26960402727127075,\n",
       " 'y': 0.0006800275878049433,\n",
       " 'z': 0.6486363410949707,\n",
       " 'score': 0.999988317489624,\n",
       " 'name': 'nose'}"
      ]
     },
     "execution_count": 134,
     "metadata": {},
     "output_type": "execute_result"
    }
   ],
   "source": [
    "draw_mediapipe(json_object, 2)\n",
    "json_object[\"frames\"][2][\"keypoints3D\"][0]"
   ]
  },
  {
   "cell_type": "markdown",
   "metadata": {},
   "source": [
    "## **Write Mixamo Json**"
   ]
  },
  {
   "cell_type": "code",
   "execution_count": 135,
   "metadata": {},
   "outputs": [],
   "source": [
    "mixamoJsonObject = mediapipeToMixamo(json_object)"
   ]
  },
  {
   "cell_type": "code",
   "execution_count": 136,
   "metadata": {},
   "outputs": [],
   "source": [
    "with open(file_name+'.json', 'w') as f:\n",
    "    json_string = json.dump(mixamoJsonObject, f, indent=2)    "
   ]
  },
  {
   "cell_type": "markdown",
   "metadata": {},
   "source": [
    "## **Draw Mixamo**"
   ]
  },
  {
   "cell_type": "code",
   "execution_count": 137,
   "metadata": {},
   "outputs": [],
   "source": [
    "def draw_mixamo(json_object, fidx):\n",
    "  dot1 = []\n",
    "  for idx in range(0, len(json_object['frames'][fidx][\"keypoints3D\"])):\n",
    "    landmark = json_object['frames'][fidx][\"keypoints3D\"][idx];\n",
    "    dot1.append([landmark['x'], landmark['y'], landmark['z']])\n",
    "    if idx <= 5: \n",
    "      dot1[idx].append('r')\n",
    "    elif idx <= 11: # left Arm\n",
    "      dot1[idx].append('g')\n",
    "    elif idx <= 17: # right Arm\n",
    "      dot1[idx].append('b')\n",
    "    elif idx <= 21: # left leg\n",
    "      dot1[idx].append('k')\n",
    "    else:\n",
    "      dot1[idx].append('m')\n",
    "    dot1[idx].append('o')\n",
    "  dot1.append([0.0, 0.0, 0.0, 'b', 's'])\n",
    "\n",
    "\n",
    "  ax1 = plt.axes(projection='3d')\n",
    "  ax1.view_init(elev=10, azim=10)\n",
    "  ax1.set_xlim(-1.0, 1.0) \n",
    "  ax1.set_xlabel(\"x\") \n",
    "  ax1.set_ylim(-1.0, 1.0)  \n",
    "  ax1.set_ylabel(\"y\") \n",
    "  ax1.set_zlim(-1.0, 1.0)  \n",
    "  ax1.set_zlabel(\"z\") \n",
    "  i = 0\n",
    "  for x in dot1:\n",
    "    ax1.scatter3D(x[0],x[1],x[2], c=x[3],\n",
    "                marker= x[4], linewidths=1)  \n",
    "    i += 1\n",
    "  plt.show()\n",
    "  return\n",
    "\n",
    "def draw_all_frame_mixamo(json_object):\n",
    "  fig = plt.figure()  \n",
    "  for fidx in range(0, len(json_object['frames'])):\n",
    "    clear_output(wait=True)\n",
    "    draw_mixamo(json_object, fidx)\n",
    "  return"
   ]
  },
  {
   "cell_type": "code",
   "execution_count": 138,
   "metadata": {},
   "outputs": [
    {
     "data": {
      "image/png": "[encoded data removed]",
      "text/plain": [
       "<Figure size 432x288 with 1 Axes>"
      ]
     },
     "metadata": {
      "needs_background": "light"
     },
     "output_type": "display_data"
    },
    {
     "data": {
      "image/png": "[encoded data removed]",
      "text/plain": [
       "<Figure size 432x288 with 1 Axes>"
      ]
     },
     "metadata": {
      "needs_background": "light"
     },
     "output_type": "display_data"
    }
   ],
   "source": [
    "for idx in range(0, len(json_object[\"frames\"]), 3):\n",
    "    clear_output(wait=True)\n",
    "\n",
    "    draw_mediapipe(json_object, idx)\n",
    "    draw_mixamo(mixamoJsonObject, idx)"
   ]
  }
 ],
 "metadata": {
  "interpreter": {
   "hash": "78bdb2dcac2d744d0c30d0eaa331d55fe59e60d95f25fb3dacd42cea4b1d7e89"
  },
  "kernelspec": {
   "display_name": "Python 3.9.9 64-bit ('system-3.9.9')",
   "language": "python",
   "name": "python3"
  },
  "language_info": {
   "codemirror_mode": {
    "name": "ipython",
    "version": 3
   },
   "file_extension": ".py",
   "mimetype": "text/x-python",
   "name": "python",
   "nbconvert_exporter": "python",
   "pygments_lexer": "ipython3",
   "version": "3.9.9"
  },
  "orig_nbformat": 4
 },
 "nbformat": 4,
 "nbformat_minor": 2
}
